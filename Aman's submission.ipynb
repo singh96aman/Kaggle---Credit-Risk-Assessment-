{
 "cells": [
  {
   "cell_type": "code",
   "execution_count": 1,
   "metadata": {},
   "outputs": [],
   "source": [
    "import pandas as pd\n",
    "import csv\n",
    "import random\n",
    "import matplotlib.pyplot as plt\n",
    "from pandas.plotting import table\n",
    "import re\n",
    "import matplotlib as mpl"
   ]
  },
  {
   "cell_type": "code",
   "execution_count": 2,
   "metadata": {},
   "outputs": [],
   "source": [
    "TRAIN_CSV = \"train.csv\"\n",
    "TEST_CSV = \"test.csv\""
   ]
  },
  {
   "cell_type": "code",
   "execution_count": 3,
   "metadata": {},
   "outputs": [],
   "source": [
    "def getDataFrameFromCSV(csv_name):\n",
    "    df = pd.read_csv(csv_name, encoding = \"ISO-8859-1\", engine='python')\n",
    "    df.columns = df.columns.str.strip()\n",
    "    column_list = list(df.columns)\n",
    "    return df"
   ]
  },
  {
   "cell_type": "code",
   "execution_count": 4,
   "metadata": {},
   "outputs": [],
   "source": [
    "df_train = getDataFrameFromCSV(TRAIN_CSV)\n",
    "df_test = getDataFrameFromCSV(TEST_CSV)"
   ]
  },
  {
   "cell_type": "code",
   "execution_count": 5,
   "metadata": {},
   "outputs": [
    {
     "name": "stdout",
     "output_type": "stream",
     "text": [
      "(600, 22)\n",
      "(400, 21)\n"
     ]
    }
   ],
   "source": [
    "print(df_train.shape)\n",
    "print(df_test.shape)"
   ]
  },
  {
   "cell_type": "code",
   "execution_count": 6,
   "metadata": {},
   "outputs": [
    {
     "name": "stdout",
     "output_type": "stream",
     "text": [
      "['id' 'account_status' 'months' 'credit_history' 'purpose' 'credit_amount'\n",
      " 'savings' 'employment' 'installment_rate' 'personal_status' 'guarantors'\n",
      " 'residence' 'property' 'age' 'other_installments' 'housing'\n",
      " 'credit_cards' 'job' 'dependents' 'phone' 'foreign_worker'\n",
      " 'credit_rating']\n"
     ]
    }
   ],
   "source": [
    "print(df_train.columns.values)"
   ]
  },
  {
   "cell_type": "code",
   "execution_count": 7,
   "metadata": {},
   "outputs": [],
   "source": [
    "features = ['id' ,'account_status', 'months' ,'credit_history','purpose' ,'credit_amount',\n",
    " 'savings', 'employment' ,'installment_rate' ,'personal_status' ,'guarantors',\n",
    " 'residence', 'property' ,'age' ,'other_installments' ,'housing',\n",
    " 'credit_cards', 'job' ,'dependents', 'phone' ,'foreign_worker']\n",
    "column_to_predict = ['credit_rating']\n",
    "\n",
    "X_train = df_train[features]\n",
    "Y_train = df_train[column_to_predict]\n",
    "X_test = df_test[features]"
   ]
  },
  {
   "cell_type": "code",
   "execution_count": 8,
   "metadata": {},
   "outputs": [],
   "source": [
    "## This is not working because there are String Values\n",
    "\n",
    "import sklearn as sk\n",
    "from sklearn.linear_model import LogisticRegression\n",
    "\n",
    "#LR = LogisticRegression(random_state=0, solver='lbfgs', multi_class='ovr').fit(X_train, Y_train)\n",
    "#LR.predict(X_test)"
   ]
  },
  {
   "cell_type": "code",
   "execution_count": 10,
   "metadata": {},
   "outputs": [
    {
     "name": "stdout",
     "output_type": "stream",
     "text": [
      "account_status   ['0 <= x < 200 DM ' 'no checking account ' 'x < 0 DM '\n",
      " 'x >= 200 DM / salary assignments for at least 1 year ']\n",
      "months   [39 36 30 24 12  9 18 15  6 10 48 42  8  4 60  5  7 21 11 54 28 27 13 45\n",
      " 20 33 16 47 22 14 26]\n",
      "credit_history   ['delay in paying off in the past '\n",
      " 'critical account/ other credits existing (not at this bank) '\n",
      " 'existing credits paid back duly till now '\n",
      " 'no credits taken/ all credits paid back duly '\n",
      " 'all credits at this bank paid back duly ']\n",
      "purpose   ['education ' 'car (new) ' 'car (used) ' 'furniture/equipment '\n",
      " 'radio/television ' 'business ' 'repairs ' 'retraining '\n",
      " 'domestic appliances ' 'others ']\n",
      "savings   ['100 <= x < 500 DM ' 'x < 100 DM ' 'unknown/ no savings account '\n",
      " '500 <= x < 1000 DM ' 'x>= 1000 DM ']\n",
      "employment   ['4 <= x < 7 years ' 'x>= 7 years ' '1 <= x < 4 years ' 'x < 1 year '\n",
      " 'unemployed ']\n",
      "installment_rate   [2 4 1 3]\n",
      "personal_status   ['male - single ' 'male - married/widowed '\n",
      " 'female - divorced/separated/married ' 'male - divorced/separated ']\n",
      "guarantors   ['none ' 'guarantor ' 'co-applicant ']\n",
      "residence   [3 4 1 2]\n",
      "property   ['unknown / no property ' 'car or other, not in attribute Account '\n",
      " 'building society savings agreement/ life insurance ' 'real estate ']\n",
      "age   [32 34 24 35 57 26 20 36 33 44 30 45 55 43 46 28 27 23 38 31 25 47 50 37\n",
      " 21 68 29 49 58 52 39 59 48 67 74 66 53 63 56 40 42 60 41 22 19 51 64 65\n",
      " 61 54 75 62]\n",
      "other_installments   ['none ' 'stores ' 'bank ']\n",
      "housing   ['rent ' 'own ' 'for free ']\n",
      "credit_cards   [1 2 3 4]\n",
      "job   ['skilled employee / official'\n",
      " 'management/ self-employed/highly qualified employee/ officer'\n",
      " 'unskilled - resident' 'unemployed/ unskilled - non-resident']\n",
      "dependents   [1 2]\n",
      "phone   ['yes, registered under the customers name ' 'none ']\n",
      "foreign_worker   ['yes ' 'no ']\n",
      "credit_rating   [1 2]\n"
     ]
    }
   ],
   "source": [
    "for col in df_train:\n",
    "    if col not in [\"id\", \"credit_amount\"]:\n",
    "        print(col, \" \", df_train[col].unique())"
   ]
  },
  {
   "cell_type": "code",
   "execution_count": null,
   "metadata": {},
   "outputs": [],
   "source": []
  }
 ],
 "metadata": {
  "kernelspec": {
   "display_name": "Python 3",
   "language": "python",
   "name": "python3"
  },
  "language_info": {
   "codemirror_mode": {
    "name": "ipython",
    "version": 3
   },
   "file_extension": ".py",
   "mimetype": "text/x-python",
   "name": "python",
   "nbconvert_exporter": "python",
   "pygments_lexer": "ipython3",
   "version": "3.8.5"
  }
 },
 "nbformat": 4,
 "nbformat_minor": 4
}
